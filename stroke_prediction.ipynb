{
 "cells": [
  {
   "cell_type": "code",
   "execution_count": 1,
   "metadata": {},
   "outputs": [],
   "source": [
    "# import packages\n",
    "import itertools \n",
    "import numpy as np\n",
    "import pandas as pd\n",
    "import matplotlib.pyplot as plt\n",
    "import seaborn as sns\n",
    "import warnings\n",
    "import collections\n",
    "import math\n",
    "\n",
    "from sklearn.model_selection import GridSearchCV\n",
    "from sklearn.linear_model import LogisticRegression\n",
    "from sklearn.tree import DecisionTreeClassifier\n",
    "from sklearn.ensemble import RandomForestClassifier\n",
    "from xgboost import XGBClassifier\n",
    "from imblearn.over_sampling import SMOTE\n",
    "\n",
    "from matplotlib import pyplot\n",
    "\n",
    "warnings.filterwarnings(\"ignore\")\n",
    "pd.options.mode.chained_assignment = None  # default='warn'"
   ]
  },
  {
   "cell_type": "code",
   "execution_count": 2,
   "metadata": {},
   "outputs": [],
   "source": [
    "# import data\n",
    "stroke_data = pd.read_csv(r'data/healthcare-dataset-stroke-data.csv')\n",
    "synthetic_data = pd.read_csv(r'data/train.csv')\n",
    "test_data = pd.read_csv(r'data/test.csv')\n",
    "idx_data = pd.read_csv(r'data/test.csv')"
   ]
  },
  {
   "attachments": {},
   "cell_type": "markdown",
   "metadata": {},
   "source": [
    "# Basic Analysis  <a name=\"eda\"></a>\n"
   ]
  },
  {
   "cell_type": "code",
   "execution_count": 3,
   "metadata": {},
   "outputs": [
    {
     "data": {
      "text/html": [
       "<div>\n",
       "<style scoped>\n",
       "    .dataframe tbody tr th:only-of-type {\n",
       "        vertical-align: middle;\n",
       "    }\n",
       "\n",
       "    .dataframe tbody tr th {\n",
       "        vertical-align: top;\n",
       "    }\n",
       "\n",
       "    .dataframe thead th {\n",
       "        text-align: right;\n",
       "    }\n",
       "</style>\n",
       "<table border=\"1\" class=\"dataframe\">\n",
       "  <thead>\n",
       "    <tr style=\"text-align: right;\">\n",
       "      <th></th>\n",
       "      <th>id</th>\n",
       "      <th>gender</th>\n",
       "      <th>age</th>\n",
       "      <th>hypertension</th>\n",
       "      <th>heart_disease</th>\n",
       "      <th>ever_married</th>\n",
       "      <th>work_type</th>\n",
       "      <th>Residence_type</th>\n",
       "      <th>avg_glucose_level</th>\n",
       "      <th>bmi</th>\n",
       "      <th>smoking_status</th>\n",
       "      <th>stroke</th>\n",
       "    </tr>\n",
       "  </thead>\n",
       "  <tbody>\n",
       "    <tr>\n",
       "      <td>0</td>\n",
       "      <td>9046</td>\n",
       "      <td>Male</td>\n",
       "      <td>67.0</td>\n",
       "      <td>0</td>\n",
       "      <td>1</td>\n",
       "      <td>Yes</td>\n",
       "      <td>Private</td>\n",
       "      <td>Urban</td>\n",
       "      <td>228.69</td>\n",
       "      <td>36.6</td>\n",
       "      <td>formerly smoked</td>\n",
       "      <td>1</td>\n",
       "    </tr>\n",
       "    <tr>\n",
       "      <td>1</td>\n",
       "      <td>51676</td>\n",
       "      <td>Female</td>\n",
       "      <td>61.0</td>\n",
       "      <td>0</td>\n",
       "      <td>0</td>\n",
       "      <td>Yes</td>\n",
       "      <td>Self-employed</td>\n",
       "      <td>Rural</td>\n",
       "      <td>202.21</td>\n",
       "      <td>NaN</td>\n",
       "      <td>never smoked</td>\n",
       "      <td>1</td>\n",
       "    </tr>\n",
       "    <tr>\n",
       "      <td>2</td>\n",
       "      <td>31112</td>\n",
       "      <td>Male</td>\n",
       "      <td>80.0</td>\n",
       "      <td>0</td>\n",
       "      <td>1</td>\n",
       "      <td>Yes</td>\n",
       "      <td>Private</td>\n",
       "      <td>Rural</td>\n",
       "      <td>105.92</td>\n",
       "      <td>32.5</td>\n",
       "      <td>never smoked</td>\n",
       "      <td>1</td>\n",
       "    </tr>\n",
       "    <tr>\n",
       "      <td>3</td>\n",
       "      <td>60182</td>\n",
       "      <td>Female</td>\n",
       "      <td>49.0</td>\n",
       "      <td>0</td>\n",
       "      <td>0</td>\n",
       "      <td>Yes</td>\n",
       "      <td>Private</td>\n",
       "      <td>Urban</td>\n",
       "      <td>171.23</td>\n",
       "      <td>34.4</td>\n",
       "      <td>smokes</td>\n",
       "      <td>1</td>\n",
       "    </tr>\n",
       "    <tr>\n",
       "      <td>4</td>\n",
       "      <td>1665</td>\n",
       "      <td>Female</td>\n",
       "      <td>79.0</td>\n",
       "      <td>1</td>\n",
       "      <td>0</td>\n",
       "      <td>Yes</td>\n",
       "      <td>Self-employed</td>\n",
       "      <td>Rural</td>\n",
       "      <td>174.12</td>\n",
       "      <td>24.0</td>\n",
       "      <td>never smoked</td>\n",
       "      <td>1</td>\n",
       "    </tr>\n",
       "  </tbody>\n",
       "</table>\n",
       "</div>"
      ],
      "text/plain": [
       "      id  gender   age  hypertension  heart_disease ever_married  \\\n",
       "0   9046    Male  67.0             0              1          Yes   \n",
       "1  51676  Female  61.0             0              0          Yes   \n",
       "2  31112    Male  80.0             0              1          Yes   \n",
       "3  60182  Female  49.0             0              0          Yes   \n",
       "4   1665  Female  79.0             1              0          Yes   \n",
       "\n",
       "       work_type Residence_type  avg_glucose_level   bmi   smoking_status  \\\n",
       "0        Private          Urban             228.69  36.6  formerly smoked   \n",
       "1  Self-employed          Rural             202.21   NaN     never smoked   \n",
       "2        Private          Rural             105.92  32.5     never smoked   \n",
       "3        Private          Urban             171.23  34.4           smokes   \n",
       "4  Self-employed          Rural             174.12  24.0     never smoked   \n",
       "\n",
       "   stroke  \n",
       "0       1  \n",
       "1       1  \n",
       "2       1  \n",
       "3       1  \n",
       "4       1  "
      ]
     },
     "execution_count": 3,
     "metadata": {},
     "output_type": "execute_result"
    }
   ],
   "source": [
    "stroke_data.head()"
   ]
  },
  {
   "cell_type": "code",
   "execution_count": 4,
   "metadata": {},
   "outputs": [
    {
     "name": "stdout",
     "output_type": "stream",
     "text": [
      "The features of the stroke dataset are:\n",
      "id                     int64\n",
      "gender                object\n",
      "age                  float64\n",
      "hypertension           int64\n",
      "heart_disease          int64\n",
      "ever_married          object\n",
      "work_type             object\n",
      "Residence_type        object\n",
      "avg_glucose_level    float64\n",
      "bmi                  float64\n",
      "smoking_status        object\n",
      "stroke                 int64\n",
      "dtype: object\n"
     ]
    }
   ],
   "source": [
    "print(\"The features of the stroke dataset are:\")\n",
    "print(stroke_data.dtypes)"
   ]
  },
  {
   "cell_type": "code",
   "execution_count": 5,
   "metadata": {},
   "outputs": [
    {
     "name": "stdout",
     "output_type": "stream",
     "text": [
      "The gender column has only 3 different values: 'Male','Female and 'Other'.\n"
     ]
    }
   ],
   "source": [
    "gender = stroke_data.gender.unique()\n",
    "gender_types = [x for x in gender if str(x) != 'nan'] # drop nan\n",
    "\n",
    "print(f\"The gender column has only {len(gender_types)} different values: '{gender_types[0]}','{gender_types[1]} and '{gender_types[2]}'.\")"
   ]
  },
  {
   "cell_type": "code",
   "execution_count": 6,
   "metadata": {},
   "outputs": [
    {
     "name": "stdout",
     "output_type": "stream",
     "text": [
      "The marriage column has only 2 different values: 'Yes' and 'No'.\n"
     ]
    }
   ],
   "source": [
    "marriage = stroke_data.ever_married.unique()\n",
    "marriage_column = [x for x in marriage if str(x) != 'nan'] # drop nan\n",
    "\n",
    "print(f\"The marriage column has only {len(marriage_column)} different values: '{marriage_column[0]}' and '{marriage_column[1]}'.\")"
   ]
  },
  {
   "cell_type": "code",
   "execution_count": 7,
   "metadata": {},
   "outputs": [
    {
     "name": "stdout",
     "output_type": "stream",
     "text": [
      "The work column has only 5 different values: 'Private','Self-employed','Govt_job','children' and 'Never_worked'.\n"
     ]
    }
   ],
   "source": [
    "work = stroke_data.work_type.unique()\n",
    "work_column = [x for x in work if str(x) != 'nan'] # drop nan\n",
    "\n",
    "print(f\"The work column has only {len(work_column)} different values: '{work_column[0]}','{work_column[1]}','{work_column[2]}','{work_column[3]}' and '{work_column[4]}'.\")"
   ]
  },
  {
   "cell_type": "code",
   "execution_count": 8,
   "metadata": {},
   "outputs": [
    {
     "name": "stdout",
     "output_type": "stream",
     "text": [
      "The residence column has only 2 different values: 'Urban' and 'Rural'.\n"
     ]
    }
   ],
   "source": [
    "residence = stroke_data.Residence_type.unique()\n",
    "residence_column = [x for x in residence if str(x) != 'nan'] # drop nan\n",
    "\n",
    "print(f\"The residence column has only {len(residence_column)} different values: '{residence_column[0]}' and '{residence_column[1]}'.\")"
   ]
  },
  {
   "cell_type": "code",
   "execution_count": 9,
   "metadata": {},
   "outputs": [
    {
     "name": "stdout",
     "output_type": "stream",
     "text": [
      "The smoking column has only 4 different values: 'formerly smoked','never smoked','smokes' and 'Unknown'.\n"
     ]
    }
   ],
   "source": [
    "smoking = stroke_data.smoking_status.unique()\n",
    "smoking_column = [x for x in smoking if str(x) != 'nan'] # drop nan\n",
    "\n",
    "print(f\"The smoking column has only {len(smoking_column)} different values: '{smoking_column[0]}','{smoking_column[1]}','{smoking_column[2]}' and '{smoking_column[3]}'.\")"
   ]
  },
  {
   "attachments": {},
   "cell_type": "markdown",
   "metadata": {},
   "source": [
    "# Exploratory Data Analysis (EDA) <a name=\"eda\"></a>\n"
   ]
  },
  {
   "attachments": {},
   "cell_type": "markdown",
   "metadata": {},
   "source": [
    "## 1) Univariate Analysis <a name=\"uni\"></a>"
   ]
  },
  {
   "cell_type": "code",
   "execution_count": 10,
   "metadata": {},
   "outputs": [
    {
     "data": {
      "text/html": [
       "<div>\n",
       "<style scoped>\n",
       "    .dataframe tbody tr th:only-of-type {\n",
       "        vertical-align: middle;\n",
       "    }\n",
       "\n",
       "    .dataframe tbody tr th {\n",
       "        vertical-align: top;\n",
       "    }\n",
       "\n",
       "    .dataframe thead th {\n",
       "        text-align: right;\n",
       "    }\n",
       "</style>\n",
       "<table border=\"1\" class=\"dataframe\">\n",
       "  <thead>\n",
       "    <tr style=\"text-align: right;\">\n",
       "      <th></th>\n",
       "      <th>id</th>\n",
       "      <th>age</th>\n",
       "      <th>hypertension</th>\n",
       "      <th>heart_disease</th>\n",
       "      <th>avg_glucose_level</th>\n",
       "      <th>bmi</th>\n",
       "      <th>stroke</th>\n",
       "    </tr>\n",
       "  </thead>\n",
       "  <tbody>\n",
       "    <tr>\n",
       "      <td>count</td>\n",
       "      <td>5110.000000</td>\n",
       "      <td>5110.000000</td>\n",
       "      <td>5110.000000</td>\n",
       "      <td>5110.000000</td>\n",
       "      <td>5110.000000</td>\n",
       "      <td>4909.000000</td>\n",
       "      <td>5110.000000</td>\n",
       "    </tr>\n",
       "    <tr>\n",
       "      <td>mean</td>\n",
       "      <td>36517.829354</td>\n",
       "      <td>43.226614</td>\n",
       "      <td>0.097456</td>\n",
       "      <td>0.054012</td>\n",
       "      <td>106.147677</td>\n",
       "      <td>28.893237</td>\n",
       "      <td>0.048728</td>\n",
       "    </tr>\n",
       "    <tr>\n",
       "      <td>std</td>\n",
       "      <td>21161.721625</td>\n",
       "      <td>22.612647</td>\n",
       "      <td>0.296607</td>\n",
       "      <td>0.226063</td>\n",
       "      <td>45.283560</td>\n",
       "      <td>7.854067</td>\n",
       "      <td>0.215320</td>\n",
       "    </tr>\n",
       "    <tr>\n",
       "      <td>min</td>\n",
       "      <td>67.000000</td>\n",
       "      <td>0.080000</td>\n",
       "      <td>0.000000</td>\n",
       "      <td>0.000000</td>\n",
       "      <td>55.120000</td>\n",
       "      <td>10.300000</td>\n",
       "      <td>0.000000</td>\n",
       "    </tr>\n",
       "    <tr>\n",
       "      <td>25%</td>\n",
       "      <td>17741.250000</td>\n",
       "      <td>25.000000</td>\n",
       "      <td>0.000000</td>\n",
       "      <td>0.000000</td>\n",
       "      <td>77.245000</td>\n",
       "      <td>23.500000</td>\n",
       "      <td>0.000000</td>\n",
       "    </tr>\n",
       "    <tr>\n",
       "      <td>50%</td>\n",
       "      <td>36932.000000</td>\n",
       "      <td>45.000000</td>\n",
       "      <td>0.000000</td>\n",
       "      <td>0.000000</td>\n",
       "      <td>91.885000</td>\n",
       "      <td>28.100000</td>\n",
       "      <td>0.000000</td>\n",
       "    </tr>\n",
       "    <tr>\n",
       "      <td>75%</td>\n",
       "      <td>54682.000000</td>\n",
       "      <td>61.000000</td>\n",
       "      <td>0.000000</td>\n",
       "      <td>0.000000</td>\n",
       "      <td>114.090000</td>\n",
       "      <td>33.100000</td>\n",
       "      <td>0.000000</td>\n",
       "    </tr>\n",
       "    <tr>\n",
       "      <td>max</td>\n",
       "      <td>72940.000000</td>\n",
       "      <td>82.000000</td>\n",
       "      <td>1.000000</td>\n",
       "      <td>1.000000</td>\n",
       "      <td>271.740000</td>\n",
       "      <td>97.600000</td>\n",
       "      <td>1.000000</td>\n",
       "    </tr>\n",
       "  </tbody>\n",
       "</table>\n",
       "</div>"
      ],
      "text/plain": [
       "                 id          age  hypertension  heart_disease  \\\n",
       "count   5110.000000  5110.000000   5110.000000    5110.000000   \n",
       "mean   36517.829354    43.226614      0.097456       0.054012   \n",
       "std    21161.721625    22.612647      0.296607       0.226063   \n",
       "min       67.000000     0.080000      0.000000       0.000000   \n",
       "25%    17741.250000    25.000000      0.000000       0.000000   \n",
       "50%    36932.000000    45.000000      0.000000       0.000000   \n",
       "75%    54682.000000    61.000000      0.000000       0.000000   \n",
       "max    72940.000000    82.000000      1.000000       1.000000   \n",
       "\n",
       "       avg_glucose_level          bmi       stroke  \n",
       "count        5110.000000  4909.000000  5110.000000  \n",
       "mean          106.147677    28.893237     0.048728  \n",
       "std            45.283560     7.854067     0.215320  \n",
       "min            55.120000    10.300000     0.000000  \n",
       "25%            77.245000    23.500000     0.000000  \n",
       "50%            91.885000    28.100000     0.000000  \n",
       "75%           114.090000    33.100000     0.000000  \n",
       "max           271.740000    97.600000     1.000000  "
      ]
     },
     "execution_count": 10,
     "metadata": {},
     "output_type": "execute_result"
    }
   ],
   "source": [
    "stroke_data.describe()"
   ]
  },
  {
   "attachments": {},
   "cell_type": "markdown",
   "metadata": {},
   "source": [
    "Here we can see that 201 BMI data point is missing in the main data. Also, ID column is meaningless at this point. We will drop that column when we are doing our analysis."
   ]
  },
  {
   "attachments": {},
   "cell_type": "markdown",
   "metadata": {},
   "source": [
    "### distribution\n"
   ]
  },
  {
   "cell_type": "code",
   "execution_count": 11,
   "metadata": {},
   "outputs": [
    {
     "data": {
      "image/png": "[encoded data removed]",
      "text/plain": [
       "<Figure size 864x288 with 1 Axes>"
      ]
     },
     "metadata": {
      "needs_background": "light"
     },
     "output_type": "display_data"
    },
    {
     "data": {
      "image/png": "[encoded data removed]",
      "text/plain": [
       "<Figure size 864x288 with 1 Axes>"
      ]
     },
     "metadata": {
      "needs_background": "light"
     },
     "output_type": "display_data"
    },
    {
     "data": {
      "image/png": "[encoded data removed]",
      "text/plain": [
       "<Figure size 864x288 with 1 Axes>"
      ]
     },
     "metadata": {
      "needs_background": "light"
     },
     "output_type": "display_data"
    }
   ],
   "source": [
    "for col in [\"age\", \"avg_glucose_level\", \"bmi\"]:\n",
    "    \n",
    "    _, (ax1) = plt.subplots(figsize=(12,4), nrows=1, ncols=1)\n",
    "    sns.distplot(stroke_data[col].fillna(0),color='g', ax=ax1)\n",
    "    \n",
    "    \n",
    "    ax1.tick_params(size=12)\n",
    "    ax1.set_ylabel(\"density\", size=15)\n",
    "        \n",
    "    ax1.set_title(f\"Distribution of {col}\", size=15)"
   ]
  },
  {
   "attachments": {},
   "cell_type": "markdown",
   "metadata": {},
   "source": [
    "Here we see that age distribution is not perfect but close to uniform distribution between ages of couple of months to 82 years old.\n",
    "Average glucose level distribution 'is not' similar to any distribution we know of.\n",
    "Lastly, we can see that BMI data almost have a Normal distribution. Peak around must be due to data collection error since it is not possible to have BMI around 0. We will handle that data in the next steps."
   ]
  },
  {
   "cell_type": "code",
   "execution_count": 12,
   "metadata": {},
   "outputs": [
    {
     "data": {
      "text/html": [
       "<div>\n",
       "<style scoped>\n",
       "    .dataframe tbody tr th:only-of-type {\n",
       "        vertical-align: middle;\n",
       "    }\n",
       "\n",
       "    .dataframe tbody tr th {\n",
       "        vertical-align: top;\n",
       "    }\n",
       "\n",
       "    .dataframe thead th {\n",
       "        text-align: right;\n",
       "    }\n",
       "</style>\n",
       "<table border=\"1\" class=\"dataframe\">\n",
       "  <thead>\n",
       "    <tr style=\"text-align: right;\">\n",
       "      <th></th>\n",
       "      <th>id</th>\n",
       "      <th>gender</th>\n",
       "      <th>age</th>\n",
       "      <th>hypertension</th>\n",
       "      <th>heart_disease</th>\n",
       "      <th>ever_married</th>\n",
       "      <th>work_type</th>\n",
       "      <th>Residence_type</th>\n",
       "      <th>avg_glucose_level</th>\n",
       "      <th>bmi</th>\n",
       "      <th>smoking_status</th>\n",
       "      <th>stroke</th>\n",
       "    </tr>\n",
       "  </thead>\n",
       "  <tbody>\n",
       "    <tr>\n",
       "      <td>251</td>\n",
       "      <td>16523</td>\n",
       "      <td>Female</td>\n",
       "      <td>8.0</td>\n",
       "      <td>0</td>\n",
       "      <td>0</td>\n",
       "      <td>No</td>\n",
       "      <td>Private</td>\n",
       "      <td>Urban</td>\n",
       "      <td>110.89</td>\n",
       "      <td>17.6</td>\n",
       "      <td>Unknown</td>\n",
       "      <td>0</td>\n",
       "    </tr>\n",
       "    <tr>\n",
       "      <td>253</td>\n",
       "      <td>46136</td>\n",
       "      <td>Male</td>\n",
       "      <td>14.0</td>\n",
       "      <td>0</td>\n",
       "      <td>0</td>\n",
       "      <td>No</td>\n",
       "      <td>Never_worked</td>\n",
       "      <td>Rural</td>\n",
       "      <td>161.28</td>\n",
       "      <td>19.1</td>\n",
       "      <td>Unknown</td>\n",
       "      <td>0</td>\n",
       "    </tr>\n",
       "    <tr>\n",
       "      <td>284</td>\n",
       "      <td>26325</td>\n",
       "      <td>Male</td>\n",
       "      <td>14.0</td>\n",
       "      <td>0</td>\n",
       "      <td>0</td>\n",
       "      <td>No</td>\n",
       "      <td>Govt_job</td>\n",
       "      <td>Urban</td>\n",
       "      <td>82.34</td>\n",
       "      <td>31.6</td>\n",
       "      <td>Unknown</td>\n",
       "      <td>0</td>\n",
       "    </tr>\n",
       "    <tr>\n",
       "      <td>410</td>\n",
       "      <td>54975</td>\n",
       "      <td>Male</td>\n",
       "      <td>7.0</td>\n",
       "      <td>0</td>\n",
       "      <td>0</td>\n",
       "      <td>No</td>\n",
       "      <td>Self-employed</td>\n",
       "      <td>Rural</td>\n",
       "      <td>64.06</td>\n",
       "      <td>18.9</td>\n",
       "      <td>Unknown</td>\n",
       "      <td>0</td>\n",
       "    </tr>\n",
       "    <tr>\n",
       "      <td>455</td>\n",
       "      <td>7351</td>\n",
       "      <td>Male</td>\n",
       "      <td>13.0</td>\n",
       "      <td>0</td>\n",
       "      <td>0</td>\n",
       "      <td>No</td>\n",
       "      <td>Private</td>\n",
       "      <td>Urban</td>\n",
       "      <td>92.14</td>\n",
       "      <td>23.2</td>\n",
       "      <td>never smoked</td>\n",
       "      <td>0</td>\n",
       "    </tr>\n",
       "    <tr>\n",
       "      <td>939</td>\n",
       "      <td>16556</td>\n",
       "      <td>Male</td>\n",
       "      <td>13.0</td>\n",
       "      <td>0</td>\n",
       "      <td>0</td>\n",
       "      <td>No</td>\n",
       "      <td>Never_worked</td>\n",
       "      <td>Rural</td>\n",
       "      <td>111.48</td>\n",
       "      <td>20.8</td>\n",
       "      <td>Unknown</td>\n",
       "      <td>0</td>\n",
       "    </tr>\n",
       "    <tr>\n",
       "      <td>1063</td>\n",
       "      <td>42821</td>\n",
       "      <td>Female</td>\n",
       "      <td>13.0</td>\n",
       "      <td>0</td>\n",
       "      <td>0</td>\n",
       "      <td>No</td>\n",
       "      <td>Private</td>\n",
       "      <td>Rural</td>\n",
       "      <td>60.69</td>\n",
       "      <td>24.0</td>\n",
       "      <td>smokes</td>\n",
       "      <td>0</td>\n",
       "    </tr>\n",
       "    <tr>\n",
       "      <td>1197</td>\n",
       "      <td>26031</td>\n",
       "      <td>Female</td>\n",
       "      <td>14.0</td>\n",
       "      <td>0</td>\n",
       "      <td>0</td>\n",
       "      <td>No</td>\n",
       "      <td>Private</td>\n",
       "      <td>Rural</td>\n",
       "      <td>84.46</td>\n",
       "      <td>21.8</td>\n",
       "      <td>Unknown</td>\n",
       "      <td>0</td>\n",
       "    </tr>\n",
       "    <tr>\n",
       "      <td>1265</td>\n",
       "      <td>45209</td>\n",
       "      <td>Female</td>\n",
       "      <td>14.0</td>\n",
       "      <td>0</td>\n",
       "      <td>0</td>\n",
       "      <td>No</td>\n",
       "      <td>Private</td>\n",
       "      <td>Rural</td>\n",
       "      <td>118.81</td>\n",
       "      <td>24.7</td>\n",
       "      <td>Unknown</td>\n",
       "      <td>0</td>\n",
       "    </tr>\n",
       "    <tr>\n",
       "      <td>1789</td>\n",
       "      <td>13862</td>\n",
       "      <td>Female</td>\n",
       "      <td>13.0</td>\n",
       "      <td>0</td>\n",
       "      <td>0</td>\n",
       "      <td>No</td>\n",
       "      <td>Never_worked</td>\n",
       "      <td>Urban</td>\n",
       "      <td>70.93</td>\n",
       "      <td>22.9</td>\n",
       "      <td>never smoked</td>\n",
       "      <td>0</td>\n",
       "    </tr>\n",
       "    <tr>\n",
       "      <td>1809</td>\n",
       "      <td>18179</td>\n",
       "      <td>Male</td>\n",
       "      <td>13.0</td>\n",
       "      <td>0</td>\n",
       "      <td>0</td>\n",
       "      <td>No</td>\n",
       "      <td>Private</td>\n",
       "      <td>Rural</td>\n",
       "      <td>99.44</td>\n",
       "      <td>21.0</td>\n",
       "      <td>never smoked</td>\n",
       "      <td>0</td>\n",
       "    </tr>\n",
       "    <tr>\n",
       "      <td>1826</td>\n",
       "      <td>16091</td>\n",
       "      <td>Male</td>\n",
       "      <td>14.0</td>\n",
       "      <td>0</td>\n",
       "      <td>0</td>\n",
       "      <td>No</td>\n",
       "      <td>Private</td>\n",
       "      <td>Rural</td>\n",
       "      <td>103.44</td>\n",
       "      <td>20.1</td>\n",
       "      <td>never smoked</td>\n",
       "      <td>0</td>\n",
       "    </tr>\n",
       "    <tr>\n",
       "      <td>1976</td>\n",
       "      <td>46577</td>\n",
       "      <td>Female</td>\n",
       "      <td>13.0</td>\n",
       "      <td>0</td>\n",
       "      <td>0</td>\n",
       "      <td>No</td>\n",
       "      <td>Private</td>\n",
       "      <td>Urban</td>\n",
       "      <td>77.63</td>\n",
       "      <td>31.7</td>\n",
       "      <td>never smoked</td>\n",
       "      <td>0</td>\n",
       "    </tr>\n",
       "    <tr>\n",
       "      <td>2112</td>\n",
       "      <td>9199</td>\n",
       "      <td>Male</td>\n",
       "      <td>13.0</td>\n",
       "      <td>0</td>\n",
       "      <td>0</td>\n",
       "      <td>No</td>\n",
       "      <td>Self-employed</td>\n",
       "      <td>Urban</td>\n",
       "      <td>74.19</td>\n",
       "      <td>31.1</td>\n",
       "      <td>formerly smoked</td>\n",
       "      <td>0</td>\n",
       "    </tr>\n",
       "    <tr>\n",
       "      <td>2113</td>\n",
       "      <td>35402</td>\n",
       "      <td>Male</td>\n",
       "      <td>14.0</td>\n",
       "      <td>0</td>\n",
       "      <td>0</td>\n",
       "      <td>No</td>\n",
       "      <td>Private</td>\n",
       "      <td>Urban</td>\n",
       "      <td>77.12</td>\n",
       "      <td>24.5</td>\n",
       "      <td>formerly smoked</td>\n",
       "      <td>0</td>\n",
       "    </tr>\n",
       "    <tr>\n",
       "      <td>2346</td>\n",
       "      <td>61219</td>\n",
       "      <td>Female</td>\n",
       "      <td>14.0</td>\n",
       "      <td>0</td>\n",
       "      <td>0</td>\n",
       "      <td>No</td>\n",
       "      <td>Never_worked</td>\n",
       "      <td>Urban</td>\n",
       "      <td>148.37</td>\n",
       "      <td>22.7</td>\n",
       "      <td>never smoked</td>\n",
       "      <td>0</td>\n",
       "    </tr>\n",
       "    <tr>\n",
       "      <td>2411</td>\n",
       "      <td>3793</td>\n",
       "      <td>Male</td>\n",
       "      <td>14.0</td>\n",
       "      <td>0</td>\n",
       "      <td>0</td>\n",
       "      <td>No</td>\n",
       "      <td>Private</td>\n",
       "      <td>Urban</td>\n",
       "      <td>79.36</td>\n",
       "      <td>48.8</td>\n",
       "      <td>never smoked</td>\n",
       "      <td>0</td>\n",
       "    </tr>\n",
       "    <tr>\n",
       "      <td>2429</td>\n",
       "      <td>27007</td>\n",
       "      <td>Male</td>\n",
       "      <td>14.0</td>\n",
       "      <td>0</td>\n",
       "      <td>0</td>\n",
       "      <td>No</td>\n",
       "      <td>Self-employed</td>\n",
       "      <td>Urban</td>\n",
       "      <td>187.22</td>\n",
       "      <td>29.7</td>\n",
       "      <td>Unknown</td>\n",
       "      <td>0</td>\n",
       "    </tr>\n",
       "    <tr>\n",
       "      <td>2455</td>\n",
       "      <td>6239</td>\n",
       "      <td>Female</td>\n",
       "      <td>14.0</td>\n",
       "      <td>0</td>\n",
       "      <td>0</td>\n",
       "      <td>No</td>\n",
       "      <td>Private</td>\n",
       "      <td>Rural</td>\n",
       "      <td>233.71</td>\n",
       "      <td>22.9</td>\n",
       "      <td>never smoked</td>\n",
       "      <td>0</td>\n",
       "    </tr>\n",
       "    <tr>\n",
       "      <td>2485</td>\n",
       "      <td>53328</td>\n",
       "      <td>Female</td>\n",
       "      <td>14.0</td>\n",
       "      <td>0</td>\n",
       "      <td>0</td>\n",
       "      <td>No</td>\n",
       "      <td>Private</td>\n",
       "      <td>Rural</td>\n",
       "      <td>70.54</td>\n",
       "      <td>24.4</td>\n",
       "      <td>formerly smoked</td>\n",
       "      <td>0</td>\n",
       "    </tr>\n",
       "    <tr>\n",
       "      <td>2788</td>\n",
       "      <td>2013</td>\n",
       "      <td>Male</td>\n",
       "      <td>14.0</td>\n",
       "      <td>0</td>\n",
       "      <td>0</td>\n",
       "      <td>No</td>\n",
       "      <td>Private</td>\n",
       "      <td>Rural</td>\n",
       "      <td>110.72</td>\n",
       "      <td>NaN</td>\n",
       "      <td>never smoked</td>\n",
       "      <td>0</td>\n",
       "    </tr>\n",
       "    <tr>\n",
       "      <td>2794</td>\n",
       "      <td>49537</td>\n",
       "      <td>Male</td>\n",
       "      <td>14.0</td>\n",
       "      <td>0</td>\n",
       "      <td>0</td>\n",
       "      <td>No</td>\n",
       "      <td>Private</td>\n",
       "      <td>Rural</td>\n",
       "      <td>108.65</td>\n",
       "      <td>23.1</td>\n",
       "      <td>never smoked</td>\n",
       "      <td>0</td>\n",
       "    </tr>\n",
       "    <tr>\n",
       "      <td>2856</td>\n",
       "      <td>58833</td>\n",
       "      <td>Male</td>\n",
       "      <td>14.0</td>\n",
       "      <td>0</td>\n",
       "      <td>0</td>\n",
       "      <td>No</td>\n",
       "      <td>Private</td>\n",
       "      <td>Rural</td>\n",
       "      <td>61.04</td>\n",
       "      <td>17.6</td>\n",
       "      <td>Unknown</td>\n",
       "      <td>0</td>\n",
       "    </tr>\n",
       "    <tr>\n",
       "      <td>3196</td>\n",
       "      <td>57274</td>\n",
       "      <td>Male</td>\n",
       "      <td>14.0</td>\n",
       "      <td>0</td>\n",
       "      <td>0</td>\n",
       "      <td>No</td>\n",
       "      <td>Never_worked</td>\n",
       "      <td>Urban</td>\n",
       "      <td>137.91</td>\n",
       "      <td>41.8</td>\n",
       "      <td>never smoked</td>\n",
       "      <td>0</td>\n",
       "    </tr>\n",
       "    <tr>\n",
       "      <td>3334</td>\n",
       "      <td>56282</td>\n",
       "      <td>Male</td>\n",
       "      <td>13.0</td>\n",
       "      <td>0</td>\n",
       "      <td>0</td>\n",
       "      <td>No</td>\n",
       "      <td>Private</td>\n",
       "      <td>Rural</td>\n",
       "      <td>90.60</td>\n",
       "      <td>16.9</td>\n",
       "      <td>never smoked</td>\n",
       "      <td>0</td>\n",
       "    </tr>\n",
       "    <tr>\n",
       "      <td>3414</td>\n",
       "      <td>60249</td>\n",
       "      <td>Male</td>\n",
       "      <td>13.0</td>\n",
       "      <td>0</td>\n",
       "      <td>0</td>\n",
       "      <td>No</td>\n",
       "      <td>Private</td>\n",
       "      <td>Urban</td>\n",
       "      <td>141.09</td>\n",
       "      <td>24.0</td>\n",
       "      <td>Unknown</td>\n",
       "      <td>0</td>\n",
       "    </tr>\n",
       "    <tr>\n",
       "      <td>3434</td>\n",
       "      <td>27518</td>\n",
       "      <td>Male</td>\n",
       "      <td>14.0</td>\n",
       "      <td>0</td>\n",
       "      <td>0</td>\n",
       "      <td>No</td>\n",
       "      <td>Self-employed</td>\n",
       "      <td>Rural</td>\n",
       "      <td>72.28</td>\n",
       "      <td>19.0</td>\n",
       "      <td>Unknown</td>\n",
       "      <td>0</td>\n",
       "    </tr>\n",
       "    <tr>\n",
       "      <td>3457</td>\n",
       "      <td>1112</td>\n",
       "      <td>Female</td>\n",
       "      <td>14.0</td>\n",
       "      <td>0</td>\n",
       "      <td>0</td>\n",
       "      <td>No</td>\n",
       "      <td>Private</td>\n",
       "      <td>Urban</td>\n",
       "      <td>83.42</td>\n",
       "      <td>28.7</td>\n",
       "      <td>never smoked</td>\n",
       "      <td>0</td>\n",
       "    </tr>\n",
       "    <tr>\n",
       "      <td>3486</td>\n",
       "      <td>70833</td>\n",
       "      <td>Female</td>\n",
       "      <td>13.0</td>\n",
       "      <td>0</td>\n",
       "      <td>0</td>\n",
       "      <td>No</td>\n",
       "      <td>Private</td>\n",
       "      <td>Urban</td>\n",
       "      <td>62.57</td>\n",
       "      <td>20.9</td>\n",
       "      <td>Unknown</td>\n",
       "      <td>0</td>\n",
       "    </tr>\n",
       "    <tr>\n",
       "      <td>3501</td>\n",
       "      <td>59506</td>\n",
       "      <td>Male</td>\n",
       "      <td>14.0</td>\n",
       "      <td>0</td>\n",
       "      <td>0</td>\n",
       "      <td>No</td>\n",
       "      <td>Private</td>\n",
       "      <td>Rural</td>\n",
       "      <td>164.70</td>\n",
       "      <td>26.3</td>\n",
       "      <td>Unknown</td>\n",
       "      <td>0</td>\n",
       "    </tr>\n",
       "    <tr>\n",
       "      <td>3532</td>\n",
       "      <td>29613</td>\n",
       "      <td>Female</td>\n",
       "      <td>13.0</td>\n",
       "      <td>0</td>\n",
       "      <td>0</td>\n",
       "      <td>No</td>\n",
       "      <td>Private</td>\n",
       "      <td>Rural</td>\n",
       "      <td>73.76</td>\n",
       "      <td>26.7</td>\n",
       "      <td>Unknown</td>\n",
       "      <td>0</td>\n",
       "    </tr>\n",
       "    <tr>\n",
       "      <td>3653</td>\n",
       "      <td>44024</td>\n",
       "      <td>Female</td>\n",
       "      <td>14.0</td>\n",
       "      <td>0</td>\n",
       "      <td>0</td>\n",
       "      <td>No</td>\n",
       "      <td>Private</td>\n",
       "      <td>Rural</td>\n",
       "      <td>118.88</td>\n",
       "      <td>30.5</td>\n",
       "      <td>never smoked</td>\n",
       "      <td>0</td>\n",
       "    </tr>\n",
       "    <tr>\n",
       "      <td>3749</td>\n",
       "      <td>70230</td>\n",
       "      <td>Female</td>\n",
       "      <td>14.0</td>\n",
       "      <td>0</td>\n",
       "      <td>0</td>\n",
       "      <td>No</td>\n",
       "      <td>Self-employed</td>\n",
       "      <td>Rural</td>\n",
       "      <td>77.52</td>\n",
       "      <td>21.9</td>\n",
       "      <td>never smoked</td>\n",
       "      <td>0</td>\n",
       "    </tr>\n",
       "    <tr>\n",
       "      <td>3840</td>\n",
       "      <td>887</td>\n",
       "      <td>Female</td>\n",
       "      <td>14.0</td>\n",
       "      <td>0</td>\n",
       "      <td>0</td>\n",
       "      <td>No</td>\n",
       "      <td>Private</td>\n",
       "      <td>Urban</td>\n",
       "      <td>69.74</td>\n",
       "      <td>24.2</td>\n",
       "      <td>formerly smoked</td>\n",
       "      <td>0</td>\n",
       "    </tr>\n",
       "    <tr>\n",
       "      <td>3964</td>\n",
       "      <td>38132</td>\n",
       "      <td>Female</td>\n",
       "      <td>13.0</td>\n",
       "      <td>0</td>\n",
       "      <td>0</td>\n",
       "      <td>No</td>\n",
       "      <td>Private</td>\n",
       "      <td>Rural</td>\n",
       "      <td>172.27</td>\n",
       "      <td>16.6</td>\n",
       "      <td>never smoked</td>\n",
       "      <td>0</td>\n",
       "    </tr>\n",
       "    <tr>\n",
       "      <td>4103</td>\n",
       "      <td>44965</td>\n",
       "      <td>Female</td>\n",
       "      <td>14.0</td>\n",
       "      <td>0</td>\n",
       "      <td>0</td>\n",
       "      <td>No</td>\n",
       "      <td>Self-employed</td>\n",
       "      <td>Urban</td>\n",
       "      <td>124.39</td>\n",
       "      <td>34.0</td>\n",
       "      <td>Unknown</td>\n",
       "      <td>0</td>\n",
       "    </tr>\n",
       "    <tr>\n",
       "      <td>4298</td>\n",
       "      <td>25051</td>\n",
       "      <td>Female</td>\n",
       "      <td>14.0</td>\n",
       "      <td>0</td>\n",
       "      <td>0</td>\n",
       "      <td>No</td>\n",
       "      <td>Private</td>\n",
       "      <td>Rural</td>\n",
       "      <td>91.32</td>\n",
       "      <td>24.3</td>\n",
       "      <td>never smoked</td>\n",
       "      <td>0</td>\n",
       "    </tr>\n",
       "    <tr>\n",
       "      <td>4410</td>\n",
       "      <td>34900</td>\n",
       "      <td>Male</td>\n",
       "      <td>13.0</td>\n",
       "      <td>0</td>\n",
       "      <td>0</td>\n",
       "      <td>No</td>\n",
       "      <td>Never_worked</td>\n",
       "      <td>Urban</td>\n",
       "      <td>85.08</td>\n",
       "      <td>14.6</td>\n",
       "      <td>Unknown</td>\n",
       "      <td>0</td>\n",
       "    </tr>\n",
       "    <tr>\n",
       "      <td>4486</td>\n",
       "      <td>44992</td>\n",
       "      <td>Male</td>\n",
       "      <td>14.0</td>\n",
       "      <td>0</td>\n",
       "      <td>0</td>\n",
       "      <td>No</td>\n",
       "      <td>Private</td>\n",
       "      <td>Urban</td>\n",
       "      <td>126.57</td>\n",
       "      <td>25.9</td>\n",
       "      <td>formerly smoked</td>\n",
       "      <td>0</td>\n",
       "    </tr>\n",
       "    <tr>\n",
       "      <td>4593</td>\n",
       "      <td>25798</td>\n",
       "      <td>Male</td>\n",
       "      <td>14.0</td>\n",
       "      <td>0</td>\n",
       "      <td>0</td>\n",
       "      <td>No</td>\n",
       "      <td>Private</td>\n",
       "      <td>Urban</td>\n",
       "      <td>72.88</td>\n",
       "      <td>26.5</td>\n",
       "      <td>never smoked</td>\n",
       "      <td>0</td>\n",
       "    </tr>\n",
       "    <tr>\n",
       "      <td>4662</td>\n",
       "      <td>45658</td>\n",
       "      <td>Male</td>\n",
       "      <td>14.0</td>\n",
       "      <td>0</td>\n",
       "      <td>0</td>\n",
       "      <td>No</td>\n",
       "      <td>Private</td>\n",
       "      <td>Rural</td>\n",
       "      <td>84.41</td>\n",
       "      <td>33.9</td>\n",
       "      <td>never smoked</td>\n",
       "      <td>0</td>\n",
       "    </tr>\n",
       "    <tr>\n",
       "      <td>4903</td>\n",
       "      <td>56629</td>\n",
       "      <td>Female</td>\n",
       "      <td>14.0</td>\n",
       "      <td>0</td>\n",
       "      <td>0</td>\n",
       "      <td>No</td>\n",
       "      <td>Private</td>\n",
       "      <td>Rural</td>\n",
       "      <td>83.56</td>\n",
       "      <td>33.1</td>\n",
       "      <td>Unknown</td>\n",
       "      <td>0</td>\n",
       "    </tr>\n",
       "  </tbody>\n",
       "</table>\n",
       "</div>"
      ],
      "text/plain": [
       "         id  gender   age  hypertension  heart_disease ever_married  \\\n",
       "251   16523  Female   8.0             0              0           No   \n",
       "253   46136    Male  14.0             0              0           No   \n",
       "284   26325    Male  14.0             0              0           No   \n",
       "410   54975    Male   7.0             0              0           No   \n",
       "455    7351    Male  13.0             0              0           No   \n",
       "939   16556    Male  13.0             0              0           No   \n",
       "1063  42821  Female  13.0             0              0           No   \n",
       "1197  26031  Female  14.0             0              0           No   \n",
       "1265  45209  Female  14.0             0              0           No   \n",
       "1789  13862  Female  13.0             0              0           No   \n",
       "1809  18179    Male  13.0             0              0           No   \n",
       "1826  16091    Male  14.0             0              0           No   \n",
       "1976  46577  Female  13.0             0              0           No   \n",
       "2112   9199    Male  13.0             0              0           No   \n",
       "2113  35402    Male  14.0             0              0           No   \n",
       "2346  61219  Female  14.0             0              0           No   \n",
       "2411   3793    Male  14.0             0              0           No   \n",
       "2429  27007    Male  14.0             0              0           No   \n",
       "2455   6239  Female  14.0             0              0           No   \n",
       "2485  53328  Female  14.0             0              0           No   \n",
       "2788   2013    Male  14.0             0              0           No   \n",
       "2794  49537    Male  14.0             0              0           No   \n",
       "2856  58833    Male  14.0             0              0           No   \n",
       "3196  57274    Male  14.0             0              0           No   \n",
       "3334  56282    Male  13.0             0              0           No   \n",
       "3414  60249    Male  13.0             0              0           No   \n",
       "3434  27518    Male  14.0             0              0           No   \n",
       "3457   1112  Female  14.0             0              0           No   \n",
       "3486  70833  Female  13.0             0              0           No   \n",
       "3501  59506    Male  14.0             0              0           No   \n",
       "3532  29613  Female  13.0             0              0           No   \n",
       "3653  44024  Female  14.0             0              0           No   \n",
       "3749  70230  Female  14.0             0              0           No   \n",
       "3840    887  Female  14.0             0              0           No   \n",
       "3964  38132  Female  13.0             0              0           No   \n",
       "4103  44965  Female  14.0             0              0           No   \n",
       "4298  25051  Female  14.0             0              0           No   \n",
       "4410  34900    Male  13.0             0              0           No   \n",
       "4486  44992    Male  14.0             0              0           No   \n",
       "4593  25798    Male  14.0             0              0           No   \n",
       "4662  45658    Male  14.0             0              0           No   \n",
       "4903  56629  Female  14.0             0              0           No   \n",
       "\n",
       "          work_type Residence_type  avg_glucose_level   bmi   smoking_status  \\\n",
       "251         Private          Urban             110.89  17.6          Unknown   \n",
       "253    Never_worked          Rural             161.28  19.1          Unknown   \n",
       "284        Govt_job          Urban              82.34  31.6          Unknown   \n",
       "410   Self-employed          Rural              64.06  18.9          Unknown   \n",
       "455         Private          Urban              92.14  23.2     never smoked   \n",
       "939    Never_worked          Rural             111.48  20.8          Unknown   \n",
       "1063        Private          Rural              60.69  24.0           smokes   \n",
       "1197        Private          Rural              84.46  21.8          Unknown   \n",
       "1265        Private          Rural             118.81  24.7          Unknown   \n",
       "1789   Never_worked          Urban              70.93  22.9     never smoked   \n",
       "1809        Private          Rural              99.44  21.0     never smoked   \n",
       "1826        Private          Rural             103.44  20.1     never smoked   \n",
       "1976        Private          Urban              77.63  31.7     never smoked   \n",
       "2112  Self-employed          Urban              74.19  31.1  formerly smoked   \n",
       "2113        Private          Urban              77.12  24.5  formerly smoked   \n",
       "2346   Never_worked          Urban             148.37  22.7     never smoked   \n",
       "2411        Private          Urban              79.36  48.8     never smoked   \n",
       "2429  Self-employed          Urban             187.22  29.7          Unknown   \n",
       "2455        Private          Rural             233.71  22.9     never smoked   \n",
       "2485        Private          Rural              70.54  24.4  formerly smoked   \n",
       "2788        Private          Rural             110.72   NaN     never smoked   \n",
       "2794        Private          Rural             108.65  23.1     never smoked   \n",
       "2856        Private          Rural              61.04  17.6          Unknown   \n",
       "3196   Never_worked          Urban             137.91  41.8     never smoked   \n",
       "3334        Private          Rural              90.60  16.9     never smoked   \n",
       "3414        Private          Urban             141.09  24.0          Unknown   \n",
       "3434  Self-employed          Rural              72.28  19.0          Unknown   \n",
       "3457        Private          Urban              83.42  28.7     never smoked   \n",
       "3486        Private          Urban              62.57  20.9          Unknown   \n",
       "3501        Private          Rural             164.70  26.3          Unknown   \n",
       "3532        Private          Rural              73.76  26.7          Unknown   \n",
       "3653        Private          Rural             118.88  30.5     never smoked   \n",
       "3749  Self-employed          Rural              77.52  21.9     never smoked   \n",
       "3840        Private          Urban              69.74  24.2  formerly smoked   \n",
       "3964        Private          Rural             172.27  16.6     never smoked   \n",
       "4103  Self-employed          Urban             124.39  34.0          Unknown   \n",
       "4298        Private          Rural              91.32  24.3     never smoked   \n",
       "4410   Never_worked          Urban              85.08  14.6          Unknown   \n",
       "4486        Private          Urban             126.57  25.9  formerly smoked   \n",
       "4593        Private          Urban              72.88  26.5     never smoked   \n",
       "4662        Private          Rural              84.41  33.9     never smoked   \n",
       "4903        Private          Rural              83.56  33.1          Unknown   \n",
       "\n",
       "      stroke  \n",
       "251        0  \n",
       "253        0  \n",
       "284        0  \n",
       "410        0  \n",
       "455        0  \n",
       "939        0  \n",
       "1063       0  \n",
       "1197       0  \n",
       "1265       0  \n",
       "1789       0  \n",
       "1809       0  \n",
       "1826       0  \n",
       "1976       0  \n",
       "2112       0  \n",
       "2113       0  \n",
       "2346       0  \n",
       "2411       0  \n",
       "2429       0  \n",
       "2455       0  \n",
       "2485       0  \n",
       "2788       0  \n",
       "2794       0  \n",
       "2856       0  \n",
       "3196       0  \n",
       "3334       0  \n",
       "3414       0  \n",
       "3434       0  \n",
       "3457       0  \n",
       "3486       0  \n",
       "3501       0  \n",
       "3532       0  \n",
       "3653       0  \n",
       "3749       0  \n",
       "3840       0  \n",
       "3964       0  \n",
       "4103       0  \n",
       "4298       0  \n",
       "4410       0  \n",
       "4486       0  \n",
       "4593       0  \n",
       "4662       0  \n",
       "4903       0  "
      ]
     },
     "execution_count": 12,
     "metadata": {},
     "output_type": "execute_result"
    }
   ],
   "source": [
    "stroke_data[(stroke_data.work_type!='children') & (stroke_data.age<=14)]"
   ]
  },
  {
   "attachments": {},
   "cell_type": "markdown",
   "metadata": {},
   "source": [
    "We believe that children under the age of 14 shouldn't be working and work type column is wrong data collection. Hence, we will change those to children in the next steps including synthetic data (if there is any in the synthetic data)."
   ]
  },
  {
   "cell_type": "code",
   "execution_count": 13,
   "metadata": {},
   "outputs": [
    {
     "data": {
      "image/png": "[encoded data removed]",
      "text/plain": [
       "<Figure size 432x288 with 1 Axes>"
      ]
     },
     "metadata": {
      "needs_background": "light"
     },
     "output_type": "display_data"
    }
   ],
   "source": [
    "boxplot = stroke_data.boxplot(column=['bmi']) "
   ]
  },
  {
   "cell_type": "code",
   "execution_count": 14,
   "metadata": {},
   "outputs": [
    {
     "name": "stdout",
     "output_type": "stream",
     "text": [
      "47.5\n",
      "9.099999999999998\n"
     ]
    }
   ],
   "source": [
    "Q1 = stroke_data['bmi'].quantile(0.25)\n",
    "Q3 = stroke_data['bmi'].quantile(0.75)\n",
    "IQR = Q3 - Q1 \n",
    "Max = Q3 + 1.5 *IQR \n",
    "Min = Q1 - 1.5 * IQR\n",
    "print(Max)\n",
    "print(Min)"
   ]
  },
  {
   "cell_type": "code",
   "execution_count": 15,
   "metadata": {},
   "outputs": [
    {
     "data": {
      "image/png": "[encoded data removed]",
      "text/plain": [
       "<Figure size 432x288 with 1 Axes>"
      ]
     },
     "metadata": {
      "needs_background": "light"
     },
     "output_type": "display_data"
    }
   ],
   "source": [
    "boxplot2 = stroke_data.boxplot(column=['avg_glucose_level']) "
   ]
  },
  {
   "cell_type": "code",
   "execution_count": 16,
   "metadata": {},
   "outputs": [
    {
     "name": "stdout",
     "output_type": "stream",
     "text": [
      "169.35750000000002\n",
      "21.97749999999997\n"
     ]
    }
   ],
   "source": [
    "Q1v2 = stroke_data['avg_glucose_level'].quantile(0.25)\n",
    "Q3v2= stroke_data['avg_glucose_level'].quantile(0.75)\n",
    "IQRv2 = Q3v2 - Q1v2 \n",
    "Maxv2 = Q3v2 + 1.5 *IQRv2 \n",
    "Minv2 = Q1v2 - 1.5 * IQRv2\n",
    "print(Maxv2)\n",
    "print(Minv2)"
   ]
  },
  {
   "attachments": {},
   "cell_type": "markdown",
   "metadata": {},
   "source": [
    "## 2) Bivariate Analysis <a name=\"uni\"></a>"
   ]
  },
  {
   "cell_type": "code",
   "execution_count": 17,
   "metadata": {},
   "outputs": [
    {
     "data": {
      "image/png": "[encoded data removed]",
      "text/plain": [
       "<Figure size 432x288 with 1 Axes>"
      ]
     },
     "metadata": {
      "needs_background": "light"
     },
     "output_type": "display_data"
    }
   ],
   "source": [
    "stroke_data.age = stroke_data.age.round()\n",
    "\n",
    "grouped_by_age = stroke_data.groupby(\"age\").avg_glucose_level.mean()\n",
    "sns.lineplot(x = grouped_by_age.index, y = grouped_by_age)\n",
    "plt.ylabel(\"Mean Glucose Level\")\n",
    "plt.xlabel(\"Age\")\n",
    "plt.xticks(np.arange(min(grouped_by_age.index), max(grouped_by_age.index)+1, 4))\n",
    "plt.title(\"Mean Glucose Level over different Age Groups\")\n",
    "plt.show()"
   ]
  },
  {
   "attachments": {},
   "cell_type": "markdown",
   "metadata": {},
   "source": [
    "Here we can see a increasing linear trend. As people get older their Average Glucose level increases."
   ]
  },
  {
   "cell_type": "code",
   "execution_count": 18,
   "metadata": {},
   "outputs": [
    {
     "data": {
      "image/png": "[encoded data removed]",
      "text/plain": [
       "<Figure size 432x288 with 1 Axes>"
      ]
     },
     "metadata": {
      "needs_background": "light"
     },
     "output_type": "display_data"
    }
   ],
   "source": [
    "grouped_by_age = stroke_data.groupby(\"age\").bmi.mean()\n",
    "sns.lineplot(x = grouped_by_age.index, y = grouped_by_age)\n",
    "plt.ylabel(\"Mean BMI\")\n",
    "plt.xlabel(\"Age\")\n",
    "plt.xticks(np.arange(min(grouped_by_age.index), max(grouped_by_age.index)+1, 4))\n",
    "plt.title(\"Mean BMI over different Age Groups\")\n",
    "plt.show()"
   ]
  },
  {
   "attachments": {},
   "cell_type": "markdown",
   "metadata": {},
   "source": [
    "Here we can see a increasing linear trend followed up by a stable level. As people get older their Average BMI increases. After some age average BMI stays almost the same."
   ]
  },
  {
   "cell_type": "code",
   "execution_count": 19,
   "metadata": {},
   "outputs": [
    {
     "data": {
      "image/png": "[encoded data removed]",
      "text/plain": [
       "<Figure size 432x288 with 1 Axes>"
      ]
     },
     "metadata": {
      "needs_background": "light"
     },
     "output_type": "display_data"
    }
   ],
   "source": [
    "ax1 = stroke_data.plot.scatter(x='bmi',y='avg_glucose_level',c='DarkBlue')"
   ]
  },
  {
   "cell_type": "code",
   "execution_count": 20,
   "metadata": {},
   "outputs": [],
   "source": [
    "age_grouped_stroke_rate=[]\n",
    "age_grouped_stroke_rate.append(stroke_data[(0<=stroke_data.age) & (stroke_data.age<15) ].stroke.sum()/stroke_data[(0<=stroke_data.age) & (stroke_data.age<15) ].stroke.count()) \n",
    "age_grouped_stroke_rate.append(stroke_data[(15<=stroke_data.age) & (stroke_data.age<30) ].stroke.sum()/stroke_data[(15<=stroke_data.age) & (stroke_data.age<30) ].stroke.count())\n",
    "age_grouped_stroke_rate.append(stroke_data[(30<=stroke_data.age) & (stroke_data.age<45) ].stroke.sum()/stroke_data[(30<=stroke_data.age) & (stroke_data.age<45) ].stroke.count())\n",
    "age_grouped_stroke_rate.append(stroke_data[(45<=stroke_data.age) & (stroke_data.age<60) ].stroke.sum()/stroke_data[(45<=stroke_data.age) & (stroke_data.age<60) ].stroke.count())\n",
    "age_grouped_stroke_rate.append(stroke_data[(60<=stroke_data.age) & (stroke_data.age<75) ].stroke.sum()/stroke_data[(60<=stroke_data.age) & (stroke_data.age<75) ].stroke.count())\n",
    "age_grouped_stroke_rate.append(stroke_data[(75<=stroke_data.age) & (stroke_data.age<90) ].stroke.sum()/stroke_data[(75<=stroke_data.age) & (stroke_data.age<90) ].stroke.count())"
   ]
  },
  {
   "cell_type": "code",
   "execution_count": 21,
   "metadata": {},
   "outputs": [
    {
     "data": {
      "image/png": "[encoded data removed]",
      "text/plain": [
       "<Figure size 432x288 with 1 Axes>"
      ]
     },
     "metadata": {
      "needs_background": "light"
     },
     "output_type": "display_data"
    }
   ],
   "source": [
    "Limits =['0-15','15-30','30-45','45-60','60-75','75-90']\n",
    "sns.barplot(x = Limits, y = age_grouped_stroke_rate)\n",
    "plt.xticks(rotation=0)\n",
    "plt.ylabel(\"Risk of Having Stroke\")\n",
    "plt.xlabel('Age Groups')\n",
    "plt.title(f\"Risk of Having Stroke by Age Groups\")\n",
    "plt.show()"
   ]
  },
  {
   "attachments": {},
   "cell_type": "markdown",
   "metadata": {},
   "source": [
    "Here we can see that as people get older their risk of having a stroke increases exponentially. Hence, we can make the hypothesis that age is a significant factor for stroke."
   ]
  },
  {
   "cell_type": "code",
   "execution_count": 22,
   "metadata": {},
   "outputs": [],
   "source": [
    "glucose_grouped_stroke_rate=[]\n",
    "glucose_grouped_stroke_rate.append(stroke_data[(50<=stroke_data.avg_glucose_level) & (stroke_data.avg_glucose_level<100) ].stroke.sum()/stroke_data[(50<=stroke_data.avg_glucose_level) & (stroke_data.avg_glucose_level<100) ].stroke.count()) \n",
    "glucose_grouped_stroke_rate.append(stroke_data[(100<=stroke_data.avg_glucose_level) & (stroke_data.avg_glucose_level<150) ].stroke.sum()/stroke_data[(100<=stroke_data.avg_glucose_level) & (stroke_data.avg_glucose_level<150) ].stroke.count())\n",
    "glucose_grouped_stroke_rate.append(stroke_data[(150<=stroke_data.avg_glucose_level) & (stroke_data.avg_glucose_level<200) ].stroke.sum()/stroke_data[(150<=stroke_data.avg_glucose_level) & (stroke_data.avg_glucose_level<200) ].stroke.count())\n",
    "glucose_grouped_stroke_rate.append(stroke_data[(200<=stroke_data.avg_glucose_level)].stroke.sum()/stroke_data[(200<=stroke_data.avg_glucose_level)].stroke.count())"
   ]
  },
  {
   "cell_type": "code",
   "execution_count": 23,
   "metadata": {},
   "outputs": [
    {
     "data": {
      "image/png": "[encoded data removed]",
      "text/plain": [
       "<Figure size 432x288 with 1 Axes>"
      ]
     },
     "metadata": {
      "needs_background": "light"
     },
     "output_type": "display_data"
    }
   ],
   "source": [
    "Limits =['50-100','100-150','150-200','200+']\n",
    "sns.barplot(x = Limits, y = glucose_grouped_stroke_rate)\n",
    "plt.xticks(rotation=0)\n",
    "plt.ylabel(\"Risk of Having Stroke\")\n",
    "plt.xlabel('Average Glucose Level Groups')\n",
    "plt.title(f\"Risk of Having Stroke by Average Glucose Level\")\n",
    "plt.show()"
   ]
  },
  {
   "attachments": {},
   "cell_type": "markdown",
   "metadata": {},
   "source": [
    "Here we see that, increase in the Average Glucose Level causes a jump in the risk of having a stroke. Having average glucose level above of 150 leads to almost 4 times higher risk of having a stroke"
   ]
  },
  {
   "cell_type": "code",
   "execution_count": 24,
   "metadata": {},
   "outputs": [],
   "source": [
    "bmi_grouped_stroke_rate=[]\n",
    "bmi_grouped_stroke_rate.append(stroke_data[(0<=stroke_data.bmi) & (stroke_data.bmi<15) ].stroke.sum()/stroke_data[(0<=stroke_data.bmi) & (stroke_data.bmi<15) ].stroke.count()) \n",
    "bmi_grouped_stroke_rate.append(stroke_data[(15<=stroke_data.bmi) & (stroke_data.bmi<30) ].stroke.sum()/stroke_data[(15<=stroke_data.bmi) & (stroke_data.bmi<30) ].stroke.count())\n",
    "bmi_grouped_stroke_rate.append(stroke_data[(30<=stroke_data.bmi) & (stroke_data.bmi<45) ].stroke.sum()/stroke_data[(30<=stroke_data.bmi) & (stroke_data.bmi<45) ].stroke.count())\n",
    "bmi_grouped_stroke_rate.append(stroke_data[(45<=stroke_data.bmi) ].stroke.sum()/stroke_data[(45<=stroke_data.bmi) ].stroke.count())"
   ]
  },
  {
   "cell_type": "code",
   "execution_count": 25,
   "metadata": {},
   "outputs": [
    {
     "data": {
      "image/png": "[encoded data removed]",
      "text/plain": [
       "<Figure size 432x288 with 1 Axes>"
      ]
     },
     "metadata": {
      "needs_background": "light"
     },
     "output_type": "display_data"
    }
   ],
   "source": [
    "Limits =['0-15','15-30','30-45','45+']\n",
    "sns.barplot(x = Limits, y = bmi_grouped_stroke_rate)\n",
    "plt.xticks(rotation=0)\n",
    "plt.ylabel(\"Risk of Having Stroke\")\n",
    "plt.xlabel('BMI Groups')\n",
    "plt.title(f\"Risk of Having Stroke by BMI Groups\")\n",
    "plt.show()"
   ]
  },
  {
   "attachments": {},
   "cell_type": "markdown",
   "metadata": {},
   "source": [
    "The graph above shows us that BMI is also an important factor on stroke risk. 0-15 BMI group includes children, so we don't see any cases of stroke. However, among the adults, having higher BMI leads to higher risk of having a stroke."
   ]
  },
  {
   "attachments": {},
   "cell_type": "markdown",
   "metadata": {},
   "source": [
    "Lastly, we can look into the risk of having a stroke by gender, work type, residence type and smoking status."
   ]
  },
  {
   "cell_type": "code",
   "execution_count": 26,
   "metadata": {},
   "outputs": [
    {
     "data": {
      "image/png": "[encoded data removed]",
      "text/plain": [
       "<Figure size 432x288 with 1 Axes>"
      ]
     },
     "metadata": {
      "needs_background": "light"
     },
     "output_type": "display_data"
    }
   ],
   "source": [
    "grouped_by_gender = stroke_data.groupby(\"gender\").stroke.sum()/stroke_data.groupby(\"gender\").stroke.count()\n",
    "grouped_by_gender = stroke_data.groupby(\"gender\").stroke.sum()/stroke_data.groupby(\"gender\").stroke.count()\n",
    "\n",
    "Limits =['Female','Male','Other']\n",
    "sns.barplot(x = Limits, y = grouped_by_gender)\n",
    "plt.xticks(rotation=0)\n",
    "plt.ylabel(\"Risk of Having Stroke\")\n",
    "plt.xlabel('Genders')\n",
    "plt.title(f\"Risk of Having Stroke by Gender\")\n",
    "plt.show()"
   ]
  },
  {
   "attachments": {},
   "cell_type": "markdown",
   "metadata": {},
   "source": [
    "Here we can see that Males have higher chance of having a stroke. Other genders only have 1 data so it is not representative. For the future analysis we will drop Other genders."
   ]
  },
  {
   "cell_type": "code",
   "execution_count": 27,
   "metadata": {},
   "outputs": [
    {
     "data": {
      "image/png": "[encoded data removed]",
      "text/plain": [
       "<Figure size 432x288 with 1 Axes>"
      ]
     },
     "metadata": {
      "needs_background": "light"
     },
     "output_type": "display_data"
    }
   ],
   "source": [
    "grouped_by_residence = stroke_data.groupby(\"Residence_type\").stroke.sum()/stroke_data.groupby(\"Residence_type\").stroke.count()\n",
    "\n",
    "Limits =['Rural','Urban']\n",
    "sns.barplot(x = Limits, y = grouped_by_residence)\n",
    "plt.xticks(rotation=0)\n",
    "plt.ylabel(\"Risk of Having Stroke\")\n",
    "plt.xlabel('Residence Type')\n",
    "plt.title(f\"Risk of Having Stroke by Residence Type\")\n",
    "plt.show()"
   ]
  },
  {
   "attachments": {},
   "cell_type": "markdown",
   "metadata": {},
   "source": [
    "Here we can see that people living in Urban areas have higher chance of having a stroke."
   ]
  },
  {
   "cell_type": "code",
   "execution_count": 28,
   "metadata": {},
   "outputs": [
    {
     "data": {
      "image/png": "[encoded data removed]",
      "text/plain": [
       "<Figure size 432x288 with 1 Axes>"
      ]
     },
     "metadata": {
      "needs_background": "light"
     },
     "output_type": "display_data"
    }
   ],
   "source": [
    "grouped_by_work = stroke_data.groupby(\"work_type\").stroke.sum()/stroke_data.groupby(\"work_type\").stroke.count()\n",
    "\n",
    "Limits =['Gov. Job','Never Worked','Private','Self-Employed','Children']\n",
    "sns.barplot(x = Limits, y = grouped_by_work)\n",
    "plt.xticks(rotation=0)\n",
    "plt.ylabel(\"Risk of Having Stroke\")\n",
    "plt.xlabel('Work Type')\n",
    "plt.title(f\"Risk of Having Stroke by Work Type\")\n",
    "plt.show()"
   ]
  },
  {
   "cell_type": "code",
   "execution_count": 29,
   "metadata": {},
   "outputs": [
    {
     "data": {
      "text/plain": [
       "16.181818181818183"
      ]
     },
     "execution_count": 29,
     "metadata": {},
     "output_type": "execute_result"
    }
   ],
   "source": [
    "stroke_data[stroke_data.work_type=='Never_worked'].age.mean()"
   ]
  },
  {
   "attachments": {},
   "cell_type": "markdown",
   "metadata": {},
   "source": [
    "Here, we see that Never worked and children have very low rate of stroke risk. Additional analysis shows that Never worked people have average age of 16.18. Hence we can group children and never worked together for the future analysis as both represents very young people."
   ]
  },
  {
   "cell_type": "code",
   "execution_count": 30,
   "metadata": {},
   "outputs": [
    {
     "data": {
      "image/png": "[encoded data removed]",
      "text/plain": [
       "<Figure size 432x288 with 1 Axes>"
      ]
     },
     "metadata": {
      "needs_background": "light"
     },
     "output_type": "display_data"
    }
   ],
   "source": [
    "grouped_by_smoking = stroke_data.groupby(\"smoking_status\").stroke.sum()/stroke_data.groupby(\"smoking_status\").stroke.count()\n",
    "\n",
    "Limits =['Unknown','Formerly Smoked','Never Smoked','Smokes']\n",
    "sns.barplot(x = Limits, y = grouped_by_smoking)\n",
    "plt.xticks(rotation=0)\n",
    "plt.ylabel(\"Risk of Having Stroke\")\n",
    "plt.xlabel('Smoking Status')\n",
    "plt.title(f\"Risk of Having Stroke by Smoking Status\")\n",
    "plt.show()"
   ]
  },
  {
   "attachments": {},
   "cell_type": "markdown",
   "metadata": {},
   "source": [
    "Here we can see that smoking at one point in life increases the risk of a stroke."
   ]
  },
  {
   "attachments": {},
   "cell_type": "markdown",
   "metadata": {},
   "source": [
    "# Data Wrangling  <a name=\"eda\"></a>\n"
   ]
  },
  {
   "cell_type": "code",
   "execution_count": 31,
   "metadata": {},
   "outputs": [],
   "source": [
    "train_data = pd.concat([stroke_data, synthetic_data], axis=0)"
   ]
  },
  {
   "cell_type": "code",
   "execution_count": 32,
   "metadata": {},
   "outputs": [
    {
     "data": {
      "text/html": [
       "<div>\n",
       "<style scoped>\n",
       "    .dataframe tbody tr th:only-of-type {\n",
       "        vertical-align: middle;\n",
       "    }\n",
       "\n",
       "    .dataframe tbody tr th {\n",
       "        vertical-align: top;\n",
       "    }\n",
       "\n",
       "    .dataframe thead th {\n",
       "        text-align: right;\n",
       "    }\n",
       "</style>\n",
       "<table border=\"1\" class=\"dataframe\">\n",
       "  <thead>\n",
       "    <tr style=\"text-align: right;\">\n",
       "      <th></th>\n",
       "      <th>id</th>\n",
       "      <th>gender</th>\n",
       "      <th>age</th>\n",
       "      <th>hypertension</th>\n",
       "      <th>heart_disease</th>\n",
       "      <th>ever_married</th>\n",
       "      <th>work_type</th>\n",
       "      <th>Residence_type</th>\n",
       "      <th>avg_glucose_level</th>\n",
       "      <th>bmi</th>\n",
       "      <th>smoking_status</th>\n",
       "      <th>stroke</th>\n",
       "    </tr>\n",
       "  </thead>\n",
       "  <tbody>\n",
       "    <tr>\n",
       "      <td>0</td>\n",
       "      <td>9046</td>\n",
       "      <td>Male</td>\n",
       "      <td>67.0</td>\n",
       "      <td>0</td>\n",
       "      <td>1</td>\n",
       "      <td>Yes</td>\n",
       "      <td>Private</td>\n",
       "      <td>Urban</td>\n",
       "      <td>228.69</td>\n",
       "      <td>36.6</td>\n",
       "      <td>formerly smoked</td>\n",
       "      <td>1</td>\n",
       "    </tr>\n",
       "    <tr>\n",
       "      <td>1</td>\n",
       "      <td>51676</td>\n",
       "      <td>Female</td>\n",
       "      <td>61.0</td>\n",
       "      <td>0</td>\n",
       "      <td>0</td>\n",
       "      <td>Yes</td>\n",
       "      <td>Self-employed</td>\n",
       "      <td>Rural</td>\n",
       "      <td>202.21</td>\n",
       "      <td>NaN</td>\n",
       "      <td>never smoked</td>\n",
       "      <td>1</td>\n",
       "    </tr>\n",
       "    <tr>\n",
       "      <td>2</td>\n",
       "      <td>31112</td>\n",
       "      <td>Male</td>\n",
       "      <td>80.0</td>\n",
       "      <td>0</td>\n",
       "      <td>1</td>\n",
       "      <td>Yes</td>\n",
       "      <td>Private</td>\n",
       "      <td>Rural</td>\n",
       "      <td>105.92</td>\n",
       "      <td>32.5</td>\n",
       "      <td>never smoked</td>\n",
       "      <td>1</td>\n",
       "    </tr>\n",
       "    <tr>\n",
       "      <td>3</td>\n",
       "      <td>60182</td>\n",
       "      <td>Female</td>\n",
       "      <td>49.0</td>\n",
       "      <td>0</td>\n",
       "      <td>0</td>\n",
       "      <td>Yes</td>\n",
       "      <td>Private</td>\n",
       "      <td>Urban</td>\n",
       "      <td>171.23</td>\n",
       "      <td>34.4</td>\n",
       "      <td>smokes</td>\n",
       "      <td>1</td>\n",
       "    </tr>\n",
       "    <tr>\n",
       "      <td>4</td>\n",
       "      <td>1665</td>\n",
       "      <td>Female</td>\n",
       "      <td>79.0</td>\n",
       "      <td>1</td>\n",
       "      <td>0</td>\n",
       "      <td>Yes</td>\n",
       "      <td>Self-employed</td>\n",
       "      <td>Rural</td>\n",
       "      <td>174.12</td>\n",
       "      <td>24.0</td>\n",
       "      <td>never smoked</td>\n",
       "      <td>1</td>\n",
       "    </tr>\n",
       "    <tr>\n",
       "      <td>...</td>\n",
       "      <td>...</td>\n",
       "      <td>...</td>\n",
       "      <td>...</td>\n",
       "      <td>...</td>\n",
       "      <td>...</td>\n",
       "      <td>...</td>\n",
       "      <td>...</td>\n",
       "      <td>...</td>\n",
       "      <td>...</td>\n",
       "      <td>...</td>\n",
       "      <td>...</td>\n",
       "      <td>...</td>\n",
       "    </tr>\n",
       "    <tr>\n",
       "      <td>15299</td>\n",
       "      <td>15299</td>\n",
       "      <td>Female</td>\n",
       "      <td>22.0</td>\n",
       "      <td>0</td>\n",
       "      <td>0</td>\n",
       "      <td>No</td>\n",
       "      <td>Govt_job</td>\n",
       "      <td>Urban</td>\n",
       "      <td>72.63</td>\n",
       "      <td>19.5</td>\n",
       "      <td>never smoked</td>\n",
       "      <td>0</td>\n",
       "    </tr>\n",
       "    <tr>\n",
       "      <td>15300</td>\n",
       "      <td>15300</td>\n",
       "      <td>Female</td>\n",
       "      <td>46.0</td>\n",
       "      <td>1</td>\n",
       "      <td>0</td>\n",
       "      <td>Yes</td>\n",
       "      <td>Private</td>\n",
       "      <td>Urban</td>\n",
       "      <td>101.19</td>\n",
       "      <td>32.1</td>\n",
       "      <td>never smoked</td>\n",
       "      <td>0</td>\n",
       "    </tr>\n",
       "    <tr>\n",
       "      <td>15301</td>\n",
       "      <td>15301</td>\n",
       "      <td>Female</td>\n",
       "      <td>75.0</td>\n",
       "      <td>0</td>\n",
       "      <td>0</td>\n",
       "      <td>Yes</td>\n",
       "      <td>Self-employed</td>\n",
       "      <td>Urban</td>\n",
       "      <td>87.69</td>\n",
       "      <td>26.2</td>\n",
       "      <td>never smoked</td>\n",
       "      <td>0</td>\n",
       "    </tr>\n",
       "    <tr>\n",
       "      <td>15302</td>\n",
       "      <td>15302</td>\n",
       "      <td>Male</td>\n",
       "      <td>46.0</td>\n",
       "      <td>0</td>\n",
       "      <td>0</td>\n",
       "      <td>Yes</td>\n",
       "      <td>Private</td>\n",
       "      <td>Rural</td>\n",
       "      <td>101.13</td>\n",
       "      <td>22.5</td>\n",
       "      <td>Unknown</td>\n",
       "      <td>0</td>\n",
       "    </tr>\n",
       "    <tr>\n",
       "      <td>15303</td>\n",
       "      <td>15303</td>\n",
       "      <td>Female</td>\n",
       "      <td>14.0</td>\n",
       "      <td>0</td>\n",
       "      <td>0</td>\n",
       "      <td>No</td>\n",
       "      <td>Private</td>\n",
       "      <td>Rural</td>\n",
       "      <td>85.12</td>\n",
       "      <td>24.7</td>\n",
       "      <td>never smoked</td>\n",
       "      <td>0</td>\n",
       "    </tr>\n",
       "  </tbody>\n",
       "</table>\n",
       "<p>20414 rows × 12 columns</p>\n",
       "</div>"
      ],
      "text/plain": [
       "          id  gender   age  hypertension  heart_disease ever_married  \\\n",
       "0       9046    Male  67.0             0              1          Yes   \n",
       "1      51676  Female  61.0             0              0          Yes   \n",
       "2      31112    Male  80.0             0              1          Yes   \n",
       "3      60182  Female  49.0             0              0          Yes   \n",
       "4       1665  Female  79.0             1              0          Yes   \n",
       "...      ...     ...   ...           ...            ...          ...   \n",
       "15299  15299  Female  22.0             0              0           No   \n",
       "15300  15300  Female  46.0             1              0          Yes   \n",
       "15301  15301  Female  75.0             0              0          Yes   \n",
       "15302  15302    Male  46.0             0              0          Yes   \n",
       "15303  15303  Female  14.0             0              0           No   \n",
       "\n",
       "           work_type Residence_type  avg_glucose_level   bmi   smoking_status  \\\n",
       "0            Private          Urban             228.69  36.6  formerly smoked   \n",
       "1      Self-employed          Rural             202.21   NaN     never smoked   \n",
       "2            Private          Rural             105.92  32.5     never smoked   \n",
       "3            Private          Urban             171.23  34.4           smokes   \n",
       "4      Self-employed          Rural             174.12  24.0     never smoked   \n",
       "...              ...            ...                ...   ...              ...   \n",
       "15299       Govt_job          Urban              72.63  19.5     never smoked   \n",
       "15300        Private          Urban             101.19  32.1     never smoked   \n",
       "15301  Self-employed          Urban              87.69  26.2     never smoked   \n",
       "15302        Private          Rural             101.13  22.5          Unknown   \n",
       "15303        Private          Rural              85.12  24.7     never smoked   \n",
       "\n",
       "       stroke  \n",
       "0           1  \n",
       "1           1  \n",
       "2           1  \n",
       "3           1  \n",
       "4           1  \n",
       "...       ...  \n",
       "15299       0  \n",
       "15300       0  \n",
       "15301       0  \n",
       "15302       0  \n",
       "15303       0  \n",
       "\n",
       "[20414 rows x 12 columns]"
      ]
     },
     "execution_count": 32,
     "metadata": {},
     "output_type": "execute_result"
    }
   ],
   "source": [
    "train_data"
   ]
  },
  {
   "cell_type": "code",
   "execution_count": 33,
   "metadata": {},
   "outputs": [
    {
     "data": {
      "text/plain": [
       "201"
      ]
     },
     "execution_count": 33,
     "metadata": {},
     "output_type": "execute_result"
    }
   ],
   "source": [
    "train_data.isna().any(axis=1).sum()"
   ]
  },
  {
   "attachments": {},
   "cell_type": "markdown",
   "metadata": {},
   "source": [
    "There are 201 data points with NaN values. Since it is lower than 1% of all data we can simply drop that data. Another way would be syntheticly replacing Nan values with mean or median but it would introduce bias to the data. Hence, we choose to drop rows with NaN values."
   ]
  },
  {
   "cell_type": "code",
   "execution_count": 34,
   "metadata": {},
   "outputs": [
    {
     "data": {
      "text/html": [
       "<div>\n",
       "<style scoped>\n",
       "    .dataframe tbody tr th:only-of-type {\n",
       "        vertical-align: middle;\n",
       "    }\n",
       "\n",
       "    .dataframe tbody tr th {\n",
       "        vertical-align: top;\n",
       "    }\n",
       "\n",
       "    .dataframe thead th {\n",
       "        text-align: right;\n",
       "    }\n",
       "</style>\n",
       "<table border=\"1\" class=\"dataframe\">\n",
       "  <thead>\n",
       "    <tr style=\"text-align: right;\">\n",
       "      <th></th>\n",
       "      <th>gender</th>\n",
       "      <th>age</th>\n",
       "      <th>hypertension</th>\n",
       "      <th>heart_disease</th>\n",
       "      <th>ever_married</th>\n",
       "      <th>work_type</th>\n",
       "      <th>Residence_type</th>\n",
       "      <th>avg_glucose_level</th>\n",
       "      <th>bmi</th>\n",
       "      <th>smoking_status</th>\n",
       "      <th>stroke</th>\n",
       "    </tr>\n",
       "  </thead>\n",
       "  <tbody>\n",
       "    <tr>\n",
       "      <td>0</td>\n",
       "      <td>Male</td>\n",
       "      <td>67.0</td>\n",
       "      <td>0</td>\n",
       "      <td>1</td>\n",
       "      <td>Yes</td>\n",
       "      <td>Private</td>\n",
       "      <td>Urban</td>\n",
       "      <td>228.69</td>\n",
       "      <td>36.6</td>\n",
       "      <td>formerly smoked</td>\n",
       "      <td>1</td>\n",
       "    </tr>\n",
       "    <tr>\n",
       "      <td>2</td>\n",
       "      <td>Male</td>\n",
       "      <td>80.0</td>\n",
       "      <td>0</td>\n",
       "      <td>1</td>\n",
       "      <td>Yes</td>\n",
       "      <td>Private</td>\n",
       "      <td>Rural</td>\n",
       "      <td>105.92</td>\n",
       "      <td>32.5</td>\n",
       "      <td>never smoked</td>\n",
       "      <td>1</td>\n",
       "    </tr>\n",
       "    <tr>\n",
       "      <td>3</td>\n",
       "      <td>Female</td>\n",
       "      <td>49.0</td>\n",
       "      <td>0</td>\n",
       "      <td>0</td>\n",
       "      <td>Yes</td>\n",
       "      <td>Private</td>\n",
       "      <td>Urban</td>\n",
       "      <td>171.23</td>\n",
       "      <td>34.4</td>\n",
       "      <td>smokes</td>\n",
       "      <td>1</td>\n",
       "    </tr>\n",
       "    <tr>\n",
       "      <td>4</td>\n",
       "      <td>Female</td>\n",
       "      <td>79.0</td>\n",
       "      <td>1</td>\n",
       "      <td>0</td>\n",
       "      <td>Yes</td>\n",
       "      <td>Self-employed</td>\n",
       "      <td>Rural</td>\n",
       "      <td>174.12</td>\n",
       "      <td>24.0</td>\n",
       "      <td>never smoked</td>\n",
       "      <td>1</td>\n",
       "    </tr>\n",
       "    <tr>\n",
       "      <td>5</td>\n",
       "      <td>Male</td>\n",
       "      <td>81.0</td>\n",
       "      <td>0</td>\n",
       "      <td>0</td>\n",
       "      <td>Yes</td>\n",
       "      <td>Private</td>\n",
       "      <td>Urban</td>\n",
       "      <td>186.21</td>\n",
       "      <td>29.0</td>\n",
       "      <td>formerly smoked</td>\n",
       "      <td>1</td>\n",
       "    </tr>\n",
       "    <tr>\n",
       "      <td>...</td>\n",
       "      <td>...</td>\n",
       "      <td>...</td>\n",
       "      <td>...</td>\n",
       "      <td>...</td>\n",
       "      <td>...</td>\n",
       "      <td>...</td>\n",
       "      <td>...</td>\n",
       "      <td>...</td>\n",
       "      <td>...</td>\n",
       "      <td>...</td>\n",
       "      <td>...</td>\n",
       "    </tr>\n",
       "    <tr>\n",
       "      <td>15299</td>\n",
       "      <td>Female</td>\n",
       "      <td>22.0</td>\n",
       "      <td>0</td>\n",
       "      <td>0</td>\n",
       "      <td>No</td>\n",
       "      <td>Govt_job</td>\n",
       "      <td>Urban</td>\n",
       "      <td>72.63</td>\n",
       "      <td>19.5</td>\n",
       "      <td>never smoked</td>\n",
       "      <td>0</td>\n",
       "    </tr>\n",
       "    <tr>\n",
       "      <td>15300</td>\n",
       "      <td>Female</td>\n",
       "      <td>46.0</td>\n",
       "      <td>1</td>\n",
       "      <td>0</td>\n",
       "      <td>Yes</td>\n",
       "      <td>Private</td>\n",
       "      <td>Urban</td>\n",
       "      <td>101.19</td>\n",
       "      <td>32.1</td>\n",
       "      <td>never smoked</td>\n",
       "      <td>0</td>\n",
       "    </tr>\n",
       "    <tr>\n",
       "      <td>15301</td>\n",
       "      <td>Female</td>\n",
       "      <td>75.0</td>\n",
       "      <td>0</td>\n",
       "      <td>0</td>\n",
       "      <td>Yes</td>\n",
       "      <td>Self-employed</td>\n",
       "      <td>Urban</td>\n",
       "      <td>87.69</td>\n",
       "      <td>26.2</td>\n",
       "      <td>never smoked</td>\n",
       "      <td>0</td>\n",
       "    </tr>\n",
       "    <tr>\n",
       "      <td>15302</td>\n",
       "      <td>Male</td>\n",
       "      <td>46.0</td>\n",
       "      <td>0</td>\n",
       "      <td>0</td>\n",
       "      <td>Yes</td>\n",
       "      <td>Private</td>\n",
       "      <td>Rural</td>\n",
       "      <td>101.13</td>\n",
       "      <td>22.5</td>\n",
       "      <td>Unknown</td>\n",
       "      <td>0</td>\n",
       "    </tr>\n",
       "    <tr>\n",
       "      <td>15303</td>\n",
       "      <td>Female</td>\n",
       "      <td>14.0</td>\n",
       "      <td>0</td>\n",
       "      <td>0</td>\n",
       "      <td>No</td>\n",
       "      <td>Private</td>\n",
       "      <td>Rural</td>\n",
       "      <td>85.12</td>\n",
       "      <td>24.7</td>\n",
       "      <td>never smoked</td>\n",
       "      <td>0</td>\n",
       "    </tr>\n",
       "  </tbody>\n",
       "</table>\n",
       "<p>20213 rows × 11 columns</p>\n",
       "</div>"
      ],
      "text/plain": [
       "       gender   age  hypertension  heart_disease ever_married      work_type  \\\n",
       "0        Male  67.0             0              1          Yes        Private   \n",
       "2        Male  80.0             0              1          Yes        Private   \n",
       "3      Female  49.0             0              0          Yes        Private   \n",
       "4      Female  79.0             1              0          Yes  Self-employed   \n",
       "5        Male  81.0             0              0          Yes        Private   \n",
       "...       ...   ...           ...            ...          ...            ...   \n",
       "15299  Female  22.0             0              0           No       Govt_job   \n",
       "15300  Female  46.0             1              0          Yes        Private   \n",
       "15301  Female  75.0             0              0          Yes  Self-employed   \n",
       "15302    Male  46.0             0              0          Yes        Private   \n",
       "15303  Female  14.0             0              0           No        Private   \n",
       "\n",
       "      Residence_type  avg_glucose_level   bmi   smoking_status  stroke  \n",
       "0              Urban             228.69  36.6  formerly smoked       1  \n",
       "2              Rural             105.92  32.5     never smoked       1  \n",
       "3              Urban             171.23  34.4           smokes       1  \n",
       "4              Rural             174.12  24.0     never smoked       1  \n",
       "5              Urban             186.21  29.0  formerly smoked       1  \n",
       "...              ...                ...   ...              ...     ...  \n",
       "15299          Urban              72.63  19.5     never smoked       0  \n",
       "15300          Urban             101.19  32.1     never smoked       0  \n",
       "15301          Urban              87.69  26.2     never smoked       0  \n",
       "15302          Rural             101.13  22.5          Unknown       0  \n",
       "15303          Rural              85.12  24.7     never smoked       0  \n",
       "\n",
       "[20213 rows x 11 columns]"
      ]
     },
     "execution_count": 34,
     "metadata": {},
     "output_type": "execute_result"
    }
   ],
   "source": [
    "train_data = train_data.dropna()\n",
    "train_data = train_data.drop(['id'], axis=1)\n",
    "test_data = test_data.drop(['id'], axis=1)\n",
    "train_data"
   ]
  },
  {
   "attachments": {},
   "cell_type": "markdown",
   "metadata": {},
   "source": [
    "#### One hot Encoding"
   ]
  },
  {
   "cell_type": "code",
   "execution_count": 35,
   "metadata": {},
   "outputs": [],
   "source": [
    "categorical_features = ['gender','ever_married','work_type','Residence_type','smoking_status']\n",
    "for categorical_feature in categorical_features:\n",
    "    one_hot_train = pd.get_dummies(train_data[categorical_feature])\n",
    "    one_hot_test = pd.get_dummies(test_data[categorical_feature])\n",
    "    train_data = train_data.drop([categorical_feature], axis=1)\n",
    "    test_data = test_data.drop([categorical_feature], axis=1)\n",
    "    train_data = pd.concat([train_data, one_hot_train], axis=1)\n",
    "    test_data = pd.concat([test_data, one_hot_test], axis=1)"
   ]
  },
  {
   "cell_type": "code",
   "execution_count": 36,
   "metadata": {},
   "outputs": [],
   "source": [
    "train_data = train_data.drop(['Other','No','Never_worked','Urban','Unknown'], axis=1)\n",
    "test_data = test_data.drop(['Other','No','Never_worked','Urban','Unknown'], axis=1) "
   ]
  },
  {
   "attachments": {},
   "cell_type": "markdown",
   "metadata": {},
   "source": [
    "We drop one column coming from each categorical variable. For example, in the case of gender column if both female and male is 0 it means other must be 1. Hence, we can drop Other column as it doesn't provide any statistical information."
   ]
  },
  {
   "attachments": {},
   "cell_type": "markdown",
   "metadata": {},
   "source": [
    "#### Imbalanced Data and Oversampling of Minority group"
   ]
  },
  {
   "cell_type": "code",
   "execution_count": 37,
   "metadata": {},
   "outputs": [
    {
     "data": {
      "text/plain": [
       "0.04160688665710186"
      ]
     },
     "execution_count": 37,
     "metadata": {},
     "output_type": "execute_result"
    }
   ],
   "source": [
    "train_data.stroke.sum()/train_data.stroke.count() ### imbalanced data - look at smote"
   ]
  },
  {
   "attachments": {},
   "cell_type": "markdown",
   "metadata": {},
   "source": [
    "Here we see that only 4% of the data had a stroke. This is very small percentage for supervised learning to learn from data. Hence, we need to oversample minority group."
   ]
  },
  {
   "cell_type": "code",
   "execution_count": 38,
   "metadata": {},
   "outputs": [],
   "source": [
    "X_train = train_data.drop(['stroke'], axis=1)\n",
    "y_train = train_data.stroke"
   ]
  },
  {
   "cell_type": "code",
   "execution_count": 39,
   "metadata": {},
   "outputs": [],
   "source": [
    "sm = SMOTE(random_state = 2)\n",
    "X_train_res, y_train_res = sm.fit_sample(X_train, y_train.ravel())"
   ]
  },
  {
   "attachments": {},
   "cell_type": "markdown",
   "metadata": {},
   "source": [
    "After oversampling, we now have 50% of the data stroke and other half no stroke."
   ]
  },
  {
   "attachments": {},
   "cell_type": "markdown",
   "metadata": {},
   "source": [
    "# Model Selection (Classification Models) <a name=\"eda\"></a>\n"
   ]
  },
  {
   "attachments": {},
   "cell_type": "markdown",
   "metadata": {},
   "source": [
    "#### Logistic Regression"
   ]
  },
  {
   "cell_type": "code",
   "execution_count": 40,
   "metadata": {},
   "outputs": [
    {
     "name": "stdout",
     "output_type": "stream",
     "text": [
      "-----\n",
      "Best parameters {'C': 100, 'penalty': 'l1'}\n",
      "Mean cross-validated accuracy score of the best_estimator: 0.912\n",
      "-----\n"
     ]
    },
    {
     "data": {
      "text/html": [
       "<div>\n",
       "<style scoped>\n",
       "    .dataframe tbody tr th:only-of-type {\n",
       "        vertical-align: middle;\n",
       "    }\n",
       "\n",
       "    .dataframe tbody tr th {\n",
       "        vertical-align: top;\n",
       "    }\n",
       "\n",
       "    .dataframe thead tr th {\n",
       "        text-align: left;\n",
       "    }\n",
       "\n",
       "    .dataframe thead tr:last-of-type th {\n",
       "        text-align: right;\n",
       "    }\n",
       "</style>\n",
       "<table border=\"1\" class=\"dataframe\">\n",
       "  <thead>\n",
       "    <tr>\n",
       "      <th></th>\n",
       "      <th colspan=\"2\" halign=\"left\">mean_test_score</th>\n",
       "    </tr>\n",
       "    <tr>\n",
       "      <th>param_penalty</th>\n",
       "      <th>l1</th>\n",
       "      <th>l2</th>\n",
       "    </tr>\n",
       "    <tr>\n",
       "      <th>param_C</th>\n",
       "      <th></th>\n",
       "      <th></th>\n",
       "    </tr>\n",
       "  </thead>\n",
       "  <tbody>\n",
       "    <tr>\n",
       "      <td>0.001</td>\n",
       "      <td>0.815198</td>\n",
       "      <td>0.860443</td>\n",
       "    </tr>\n",
       "    <tr>\n",
       "      <td>0.010</td>\n",
       "      <td>0.906876</td>\n",
       "      <td>0.905482</td>\n",
       "    </tr>\n",
       "    <tr>\n",
       "      <td>0.100</td>\n",
       "      <td>0.911625</td>\n",
       "      <td>0.911341</td>\n",
       "    </tr>\n",
       "    <tr>\n",
       "      <td>1.000</td>\n",
       "      <td>0.912090</td>\n",
       "      <td>0.912142</td>\n",
       "    </tr>\n",
       "    <tr>\n",
       "      <td>10.000</td>\n",
       "      <td>0.912167</td>\n",
       "      <td>0.912013</td>\n",
       "    </tr>\n",
       "    <tr>\n",
       "      <td>100.000</td>\n",
       "      <td>0.912193</td>\n",
       "      <td>0.912090</td>\n",
       "    </tr>\n",
       "    <tr>\n",
       "      <td>1000.000</td>\n",
       "      <td>0.912142</td>\n",
       "      <td>0.912090</td>\n",
       "    </tr>\n",
       "  </tbody>\n",
       "</table>\n",
       "</div>"
      ],
      "text/plain": [
       "              mean_test_score          \n",
       "param_penalty              l1        l2\n",
       "param_C                                \n",
       "0.001                0.815198  0.860443\n",
       "0.010                0.906876  0.905482\n",
       "0.100                0.911625  0.911341\n",
       "1.000                0.912090  0.912142\n",
       "10.000               0.912167  0.912013\n",
       "100.000              0.912193  0.912090\n",
       "1000.000             0.912142  0.912090"
      ]
     },
     "execution_count": 40,
     "metadata": {},
     "output_type": "execute_result"
    }
   ],
   "source": [
    "C_List = [0.001,0.01,0.1,1,10,100,1000]\n",
    "penalty = ['l2','l1']\n",
    "parameters = {'C': C_List,'penalty':penalty}\n",
    "LR = LogisticRegression(solver='liblinear')\n",
    "clf1 = GridSearchCV(LR, parameters, cv=5, verbose=0,scoring ='accuracy')\n",
    "clf1.fit(X_train_res, y_train_res)\n",
    "\n",
    "print('-----')\n",
    "print(f'Best parameters {clf1.best_params_}')\n",
    "print(\n",
    "    f'Mean cross-validated accuracy score of the best_estimator: '+ \\\n",
    "    f'{clf1.best_score_:.3f}'\n",
    ")\n",
    "print('-----')\n",
    "\n",
    "LR_Results= pd.DataFrame(clf1.cv_results_)[['param_C','param_penalty','mean_test_score']]\n",
    "clf1_pivot = LR_Results.pivot('param_C', 'param_penalty')\n",
    "clf1_pivot"
   ]
  },
  {
   "attachments": {},
   "cell_type": "markdown",
   "metadata": {},
   "source": [
    "#### Decision Tree Classifier"
   ]
  },
  {
   "cell_type": "code",
   "execution_count": 41,
   "metadata": {},
   "outputs": [
    {
     "name": "stdout",
     "output_type": "stream",
     "text": [
      "-----\n",
      "Best parameters {'criterion': 'entropy', 'max_depth': 100, 'min_samples_leaf': 0.025, 'min_samples_split': 0.01}\n",
      "Mean cross-validated accuracy score of the best_estimator: 0.851\n",
      "-----\n"
     ]
    }
   ],
   "source": [
    "DTSplitList=[0.01,0.05,0.1,0.5,0.99]\n",
    "DTLeafList=[0.025,0.05,0.1,0.25,0.5]\n",
    "criterion =['gini','entropy']\n",
    "parameters = {'criterion':criterion,'max_depth':list(range(100,0,-6)),'min_samples_leaf': DTLeafList, 'min_samples_split':DTSplitList}\n",
    "DTC = DecisionTreeClassifier(random_state=10)\n",
    "clf2 = GridSearchCV(DTC, parameters, cv=5, verbose=0,scoring ='accuracy')\n",
    "clf2.fit(X_train_res, y_train_res)\n",
    "\n",
    "print('-----')\n",
    "print(f'Best parameters {clf2.best_params_}')\n",
    "print(\n",
    "    f'Mean cross-validated accuracy score of the best_estimator: '+ \\\n",
    "    f'{clf2.best_score_:.3f}'\n",
    ")\n",
    "print('-----')\n",
    "\n",
    "DTC_Results= pd.DataFrame(clf2.cv_results_)[['param_criterion','param_max_depth','param_min_samples_leaf','param_min_samples_split','mean_test_score']]"
   ]
  },
  {
   "attachments": {},
   "cell_type": "markdown",
   "metadata": {},
   "source": [
    "#### Random Forest Classifier"
   ]
  },
  {
   "cell_type": "code",
   "execution_count": 42,
   "metadata": {},
   "outputs": [
    {
     "name": "stdout",
     "output_type": "stream",
     "text": [
      "-----\n",
      "Best parameters {'criterion': 'gini', 'max_depth': 100, 'n_estimators': 200}\n",
      "Mean cross-validated accuracy score of the best_estimator: 0.969\n",
      "-----\n"
     ]
    }
   ],
   "source": [
    "RFEstimatorList = [25,50,100,200]\n",
    "criterion =['gini','entropy']\n",
    "parameters = {'criterion':criterion,'max_depth':list(range(100,0,-10)),'n_estimators':RFEstimatorList}\n",
    "RFC = RandomForestClassifier(random_state=10)\n",
    "clf3 = GridSearchCV(RFC, parameters, cv=5, verbose=0,scoring ='accuracy')\n",
    "clf3.fit(X_train_res, y_train_res)\n",
    "\n",
    "print('-----')\n",
    "print(f'Best parameters {clf3.best_params_}')\n",
    "print(\n",
    "    f'Mean cross-validated accuracy score of the best_estimator: '+ \\\n",
    "    f'{clf3.best_score_:.3f}'\n",
    ")\n",
    "print('-----')\n",
    "\n",
    "RFC_Results= pd.DataFrame(clf3.cv_results_)[['param_criterion','param_max_depth','param_n_estimators','mean_test_score']]"
   ]
  },
  {
   "attachments": {},
   "cell_type": "markdown",
   "metadata": {},
   "source": [
    "#### XGBoost Classifier"
   ]
  },
  {
   "cell_type": "code",
   "execution_count": 43,
   "metadata": {},
   "outputs": [
    {
     "name": "stdout",
     "output_type": "stream",
     "text": [
      "-----\n",
      "Best parameters {'learning_rate': 0.02, 'max_depth': 3, 'n_estimators': 200, 'subsample': 0.4}\n",
      "Mean cross-validated accuracy score of the best_estimator: 0.901\n",
      "-----\n"
     ]
    }
   ],
   "source": [
    "params = {\n",
    "    'n_estimators': [100, 200],\n",
    "    'max_depth': [2, 3],\n",
    "    'learning_rate': [ 0.01, 0.02],\n",
    "    'subsample': [0.4, 0.6]\n",
    "}\n",
    "clf4 = GridSearchCV(XGBClassifier(silent=False,random_state=10), params, scoring ='accuracy')\n",
    "clf4.fit(X_train_res, y_train_res)\n",
    "\n",
    "print('-----')\n",
    "print(f'Best parameters {clf4.best_params_}')\n",
    "print(\n",
    "    f'Mean cross-validated accuracy score of the best_estimator: '+ \\\n",
    "    f'{clf4.best_score_:.3f}'\n",
    ")\n",
    "print('-----')"
   ]
  },
  {
   "attachments": {},
   "cell_type": "markdown",
   "metadata": {},
   "source": [
    "Best model is Random Forest Classifier with parameters 'criterion': 'gini', 'max_depth': 100, 'n_estimators': 200. We will use those paramaters to predict stroke on test data."
   ]
  },
  {
   "attachments": {},
   "cell_type": "markdown",
   "metadata": {},
   "source": [
    "# Prediction of Stroke<a name=\"eda\"></a>\n"
   ]
  },
  {
   "cell_type": "code",
   "execution_count": 44,
   "metadata": {},
   "outputs": [],
   "source": [
    "y_test_pred = clf3.predict(test_data)\n",
    "\n",
    "pred_data = pd.DataFrame(y_test_pred, columns = ['stroke'])\n",
    "pred_data['id']=idx_data.id\n",
    "pred_data = pred_data.reindex(sorted(pred_data.columns), axis=1)\n",
    "pred_data.to_csv(\"prediction.csv\",index=False)"
   ]
  }
 ],
 "metadata": {
  "kernelspec": {
   "display_name": "Python 3",
   "language": "python",
   "name": "python3"
  },
  "language_info": {
   "codemirror_mode": {
    "name": "ipython",
    "version": 3
   },
   "file_extension": ".py",
   "mimetype": "text/x-python",
   "name": "python",
   "nbconvert_exporter": "python",
   "pygments_lexer": "ipython3",
   "version": "3.7.4"
  }
 },
 "nbformat": 4,
 "nbformat_minor": 2
}
